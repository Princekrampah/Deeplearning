{
 "cells": [
  {
   "cell_type": "markdown",
   "metadata": {},
   "source": [
    "# Loss Functions\n",
    "\n",
    "Loss functions are the most important part of machine learning and neural networks, as the name suggests, a loss function is nothing but an error in the predictions made by the neural network. A loss function is a mathematical approach in calculating the loss(error)\n",
    "\n",
    "When a neural net makes a decision we need to evaluate the decision and tell the computer or neural net how well or bad the prediction is. We need to calculate this to improve the neural net. The process by which we feed the error(loss) back into the network so as to make adjustments to the weights and biases of the network is called **backward propagation**.\n",
    "\n",
    "To backward propagation is just a way to tell the net how wrong it has performed in making a prediction during training a neural network. We will look closely into backward propagation later in the text but for now think of it like this. \n",
    "\n",
    "The loss function is used tho calculate values of the **gradient descent**, throught the gradient descent, we can then tell the computer whether to reduce or increase the weights and biases. We will take a closer look at gradient descent later in the text. For those of us familiar with machine learning, we may have already come across gradient descent, this the same concept in neural network, pheww!\n",
    "\n",
    "But how do we tell the network how wrong its wrong? For this we need to calculate the a loss(error), lets take a look at the different ways and methods we can use to calculate the error.\n",
    "\n",
    "## Types Of Loss Functions\n",
    "\n",
    "**1. Mean Squared Error (MSE)**\n",
    "\n",
    "The mean squared error is the most easy to understand loss function, to understand this we will use a simple line graph to explain the concept. For those familiar with linear regression, I bet you already came across this loss function, if this is your first time hearing about this function, well not a problem, we'll go over it :)\n",
    "\n",
    "Lets take a set of data and we want to draw a line graph, just like the one below\n",
    "\n",
    "<img src=\"images/mse_image3.png\"  width=\"400\" height=\"400\" />\n",
    "\n",
    "well i draw this in matplotlib(visualization python library) it automatically calculate the best fit line. But how does the library do this?\n",
    "\n",
    "To calculate the best fit line we need to use math and calculas, aahh calculas (:, I know what you are thinking. I promise to keep it simple and straigth to the point.\n",
    "\n",
    "First lets get familiar with some of the terminologies\n",
    "\n",
    "**1. Residuals:** A residual is the vertical distance between a data point and the regression line. Each data point has one residual. They are positive if they are above the regression line and negative if they are below the regression line. This is just the error that isn't explained by the regression line. The lower the value of the **sum of residuals** the better. To have a good best fit line we need to reduce the residuals as much as possible. In other words, the residual is the difference between the actual y-value value and the predicted y-value for the same point on the X-axis.\n",
    " \n",
    " Mathematically the residual can be calculated with the formular below\n",
    " \n",
    "## \\begin{equation}\n",
    " residaul = y_{true} - y_{predicted} \\\\= y - \\hat{y}\n",
    "\\end{equation}\n",
    " \n",
    " \n",
    " <img src=\"images/mse_image4.png\"  width=\"400\" height=\"400\" />\n",
    "\n",
    "\n",
    "**2. Best fit line:** This is the line with the lowest sum of residuals\n",
    "\n",
    "Now that we have gone over some of the terminologies, let's dive into what MSE is, MSE is **mean of the sum of squared residuals**. Mathematically MSE can be expressed as:\n",
    "\n",
    "## \\begin{equation}\n",
    "MSE = \\frac{1}{n}\\sum_{i=1}^{n}(y_i - \\hat{y_i})^2\n",
    "\\end{equation}\n",
    "\n",
    "**Where:**\\\n",
    "$ y $ - true value of y\\\n",
    "$ \\hat{y} $ - the predicted y value\n",
    "\n",
    "The best fit line is the line having the lowest MSE, this is a loss functions since it helps the algorithm to calculate the best values to fit the best fit line(y-intercept and slope). Let's write a simple python programm to calculate the MSE.\n",
    "\n",
    "```python\n",
    "    import numpy as np\n",
    "\n",
    "    def MSE(y_true, y_pred):\n",
    "        return np.mean((y_true-y_pred)**2)\n",
    "\n",
    "    y_true = np.array([12, 10, 13, 14])\n",
    "    y_pred = np.array([10, 15, 13, 15])\n",
    "\n",
    "    MSE(y_true, y_pred)\n",
    "    \n",
    "    >>> 7.5\n",
    "```\n",
    "\n",
    "**2. Mean Absolute Error**\n",
    "\n",
    "This is very similar to the MSE expect it takes the absolute value of the residuals instead. This is just the average of the absolute value of the errors.\n",
    "\n",
    "Mathematically this can be calulated as follow:\n",
    "\n",
    "## \\begin{equation}\n",
    "MAE = \\frac{1}{n}\\sum_{i=1}^{n}(abs(y_i - \\hat{y_i})\\\\= \\frac{1}{n}\\sum_{i=1}^{n} |(y_i - \\hat{y_i}|\n",
    "\\end{equation}\n",
    "\n",
    "Now, let's take a look at the Python code for MAE\n",
    "\n",
    "```python\n",
    "import numpy as np\n",
    "\n",
    "def MAE(y_true, y_pred):\n",
    "    return np.mean(abs(y_true-y_pred))\n",
    "\n",
    "y_true = np.array([12, 10, 13, 14])\n",
    "y_pred = np.array([10, 15, 13, 15])\n",
    "\n",
    "MAE(y_true, y_pred)\n",
    "\n",
    ">>> 2\n",
    "```\n",
    "\n",
    "**3. Log loss or Binary cross entropy** \n",
    "\n",
    "This loss function measures the performance of a classification model that outputs a probability between 0 and 1. Cross-entropy loss increases as the predicted probability diverges from the actual label. So predicting a probability of .027 when the actual observation label is 1 would be bad and result in a high loss value. A perfect model would have a log loss of 0. This loss function is suited for binary classification cases where the output is either 0 or 1.\n",
    "\n",
    "Example this loss function can be used in a model that takes the age, wealth and location of an individual and predict whether or not he or she will buy a house.(0 or 1 output).\n",
    "\n",
    "the log loss can be mathematically expressed as:\n",
    "\n",
    "## \\begin{equation}\n",
    "logloss = -\\frac{1}{n}\\sum_{i=1}^{n}\\big(ylog{(\\hat{y})} + (1-y)log{(1 - \\hat{y})}\\big)\n",
    "\\end{equation}\n"
   ]
  },
  {
   "cell_type": "code",
   "execution_count": 2,
   "metadata": {},
   "outputs": [
    {
     "data": {
      "text/plain": [
       "7.5"
      ]
     },
     "execution_count": 2,
     "metadata": {},
     "output_type": "execute_result"
    }
   ],
   "source": [
    "import numpy as np\n",
    "\n",
    "def MSE(y_true, y_pred):\n",
    "    return np.mean((y_true-y_pred)**2)\n",
    "\n",
    "y_true = np.array([12, 10, 13, 14])\n",
    "y_pred = np.array([10, 15, 13, 15])\n",
    "\n",
    "MSE(y_true, y_pred)"
   ]
  },
  {
   "cell_type": "code",
   "execution_count": 6,
   "metadata": {},
   "outputs": [
    {
     "data": {
      "text/plain": [
       "2.0"
      ]
     },
     "execution_count": 6,
     "metadata": {},
     "output_type": "execute_result"
    }
   ],
   "source": [
    "def MAE(y_true, y_pred):\n",
    "    return np.mean(abs(y_true-y_pred))\n",
    "\n",
    "MAE(y_true, y_pred)"
   ]
  },
  {
   "cell_type": "code",
   "execution_count": null,
   "metadata": {},
   "outputs": [],
   "source": []
  }
 ],
 "metadata": {
  "kernelspec": {
   "display_name": "Python 3",
   "language": "python",
   "name": "python3"
  },
  "language_info": {
   "codemirror_mode": {
    "name": "ipython",
    "version": 3
   },
   "file_extension": ".py",
   "mimetype": "text/x-python",
   "name": "python",
   "nbconvert_exporter": "python",
   "pygments_lexer": "ipython3",
   "version": "3.8.5"
  }
 },
 "nbformat": 4,
 "nbformat_minor": 4
}
