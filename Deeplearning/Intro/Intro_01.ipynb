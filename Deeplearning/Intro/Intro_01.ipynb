{
 "cells": [
  {
   "cell_type": "markdown",
   "metadata": {},
   "source": [
    "# Introduction To Deep Learning"
   ]
  },
  {
   "cell_type": "markdown",
   "metadata": {},
   "source": [
    "Have you ever wondered how google understands what ever language you type into the search field while googling staff online, how do self driving cars work, how does face recognition work!? If you happent to be like me who is curries to know all these, well you happen to be in the right place. In short all these technologies use AI as we all know, but AI is just a concept, so how do we achieve AI? One of the ways to achieve AI(artificial intelligence) is deep learning. Migth be asking yourself what deep learning is hmmm... \n",
    "\n",
    "### What is deep learning?\n",
    "\n",
    "Before we dive into what deep learning is lets take a quick look at some terminologies, that will help us be on the same page through out this text.\n",
    "\n",
    "**Artificial Intelligence(AI):** There is a very high chance you have come across the word `Artificial Intelligence(AI)`, what is AI? you might ask, well AI can be defined as a concept or set of technologies that give machines(computers) the ability to do things that previously required human intelligence, example driving cars and recognizing your friends face previousely required human intelligence but through AI all these can be done by a computer.\n",
    "\n",
    "**Machine Learning:** Machine learning is a way to achieve AI, as a said early AI is just a concept. Machine learning is a subset of AI. Machine learning can be defined as the art of programming computers to learn from last data so, it can make future predictions. Machine learning involves the use of various Mathimatical and statistical formula and probability to help computers make sense of messy data by coming up with formulas that will enable the computer to make future predictions. At this point you might be turned away by me mentioning Maths, hahaha, the good news is you don't have to be good at math to do machine learning, all you need to know are the Math formulas and why they are used to understand the inner working of machine learning models.\n",
    "\n",
    "Machine learning is wide field and deep learning is a subset of machine learning. If you haven't yet done machine learning I advice you to go back and learn some machine learning basic models and algorithms before diving into deep learning.If you want to do the basics of machine learning i would suggest you follow this pathway:\n",
    "- [X] Linear Regression\n",
    "- [ ] Logistic Regression\n",
    "- [ ] Support Vector Machine(SVM)\n",
    "- [ ] K-nearest neighbors\n",
    "- [ ] Naive Bayes\n",
    "- [ ] Decision Tree\n",
    "- [ ] Random Forest\n",
    "\n",
    "The above is a list of basic machine learninn algorithms arranged in order of difficulty with the easiest at the top most(the difficulty level is my persoanl preferrence). Make sure you go over each of the listed algorithms, this will prepare you form deep learning.If you have done the basic algos in machine learning feel free to continue reading, if you haven't done machine learning feel free to continue as well but, I strongly recommend doing the basics and laying the foundation. Having said that let's jump into what deep learning is all about.\n",
    "\n",
    "**Deep learning:** Deep learning is a subset of machine learning, inspired by the human brain. You might be asking yourself, \"How...\" will lets dive abit into how the human brain works.The human brain consists of neurons, depending on the activations and deactivations of neurons we have thoughts and make decisions. Deep learning is all about trying to mimic the same process by creating artificial neural network based on the same principles of the human brain. Now that we have a brief idea of what deep learning is about. We will look into this concept in detail later on in the text, Having said that,let's see some of the applications of it."
   ]
  },
  {
   "cell_type": "markdown",
   "metadata": {},
   "source": [
    "## Applications Of Deep Learning\n",
    "\n",
    "**1. Self driving cars**\n",
    "\n",
    "Deep learning is one of the forces behind autonomous driving cars. Many campanies such as google , Nissan, Tesla and other automobile companies are investing millions of dollars in self driving cars. These companies collect tonnes of data to train and perfect the deep learning models to make self driving cars a reallity.\n",
    "\n",
    "**2. Customer Care**\n",
    "\n",
    "Almost all of us had to contact the customer care at some point, if feels like you are actually conversing with a human on the other end but, some of times its a bot on the other side. This bots use deep learning model to be able to talk like a human being.\n",
    "\n",
    "**3. Medical field**\n",
    "\n",
    "Deep learning is applied in medicine to detect cancer cells, images of cancer cells are used to train artificial neural networks and are used to predict potential cancer cells using the knowledge gained from training the neural network. This helps to save lives in situations where professionals are lacking in number.\n",
    "\n",
    "**4. Natural Language Processing(NLP)**\n",
    "\n",
    "Learning a new langauge is one of the most difficult things to do. Having learnt to speak three languages, one of the most difficult thing to do is to understand the meaning of vocabularies and in what context to use them. Deep learning can be applied in simplifying this process, to inteprete one language to another. Example Google uses deep learning to interprete languages to English and the other way around.\n",
    "\n",
    "**5. Visual Assistant**\n",
    "\n",
    "From Google Assistant to Alexa to Siri to Cortana all these visual assistants use deep learning to perform tasks.They learn to understand your commands by evaluating natural human language to execute them. Another capability virtual assistants are endowed with is to translate your speech to text, make notes for you.\n",
    "\n",
    "**6. Visual Recognition**\n",
    "\n",
    "Imagine you have a gallary of your photographs and you wish to group them into folders basing on the locations at which they were taken. This is possible using deep learning, through deep learning the computer will automatically group these images basing on different categories and features in the images(e.g location, friends, events).\n",
    "\n",
    "**7. Black and white image colorization**\n",
    "\n",
    "Through deep learning, black and white images can now be colorized in few minutes. Imagine seeing old images of the first world war in color, that will be great right! This is now possible through deep learning.\n",
    "\n",
    "**8. Adding sound to silent movies**\n",
    "\n",
    "Its now possible to add sound to silent movies using deep learning.A deep learning model tends to  associate the video frames with a database of pre-recorded sounds to select appropriate sounds for the scene.\n",
    "\n",
    "\n",
    "These are a few examples we went over are some of the applications of deep learning, who knows what the future holds when it comes to deep learning.I hope this got you excited to learn deep learning or machine learning if you haven't yet started.\n",
    "\n",
    "**9. Robotics**\n",
    "\n",
    "Deep learning is used to train robots to carry out human tasks. Through deep learning robots can learn to mimic human behaviour in a better way than anytime in history. These robots not only work in the industry fields but also help to take care of the elderly ones in society. Take for examle Sophia, a robot so close to a human that she has a citizen ship of Saudi Arabia."
   ]
  },
  {
   "cell_type": "markdown",
   "metadata": {},
   "source": [
    "## Why Do We Need Deep Learning?\n",
    "\n",
    "Now that we have an idea of what deep learning and machine learning is,the question you might as yourself, \"Why do we need deep learning?\" If you are familiar with the basic machine learning algorithms, you might know some of the disadvantages of some models like the, well likes take a look at how deep learning can help solve this problems.\n",
    "\n",
    "### Advantages of Deep learning\n",
    "\n",
    "**1. Process Huge Amounts Of Data**\n",
    "\n",
    "Machine learning algorithms works with huge amounts of structured data. This takes alot of time to prepare and collect this structured data, on the other hand deep learning works with very huge amounts of both structured and unstructured data. This saves alot of time in terms of data preparation.\n",
    "\n",
    "**2. Supports Complex Algorithms**\n",
    "\n",
    "Machine learning algorithms are not very good at performing complex operations, this is where deep learning comes in. Deep learning algorithms can perform very complex operations, this is what we need to do most of the time, process very huge amounts of data. Example training image recognition systems need huge amounts of training data, increasing the complexity of the process. This is where deep learning shine.\n",
    "\n",
    "**3. Automatic Feature Extraction**\n",
    "\n",
    "Unlike machine learning where the data scientist manually provides the features to use in a model, Deep learning on the other hand takes in huge amounts of data and does the feature selection on its own, figuring out which objects are similar or not. This is a huge advantage especially when the data scientist has no domain knowledge of what feature to use.\n",
    "\n",
    "**4. Keeping Up With Huge Amount Of Data**\n",
    "\n",
    "Machine learning algorithms don't handle huge amounts of data well. The accuracy of machine learing algos decrease as the data increases. On the side of the coin, deep learning handles huge amounts of data very well,infact the more the data, the better the accuracy. This is a plus since in today's world we create tonnes of terrabytes of data each day, machine learning algos are just not up to the challenge to handle such enormous amount of data."
   ]
  },
  {
   "cell_type": "markdown",
   "metadata": {},
   "source": [
    "# Chapter 2.0\n",
    "\n",
    "## How The Human Brain Works In Brief"
   ]
  },
  {
   "cell_type": "markdown",
   "metadata": {},
   "source": [
    "Now that we have a brief idea of what deep learning is. Lets take a closer look at the human brain since, deep learning uses artificial nueral networks inspired by the human brain, its only a good idea to take a look at the inner workings of the human main.\n",
    "\n",
    "**Biological Neurons**\n",
    "\n",
    "The human brain consists of two main cells, the nerve(neurons) cells and glia cells. In Deep learning we mostly are interested in the neurons. Let's take a closer look at the workings of a neuron.\n",
    "\n",
    "There are many sizes and shapes of neurons, but all consist of a cell body, dendrites and an axon. The neuron conveys information through electrical and chemical signals. Try to picture electrical wiring in your home. An electrical circuit is made up of numerous wires connected in such a way that when a light switch is turned on, a light bulb will beam. A neuron that is excited will transmit its energy to neurons within its vicinity.\n",
    "\n",
    "Neurons transmit their energy, or “talk”, to each other across a tiny gap called a synapse (Fig. 1). A neuron has many arms called dendrites, which act like antennae picking up messages from other nerve cells. These messages are passed to the cell body, which determines if the message should be passed along. Important messages are passed to the end of the axon where sacs containing neurotransmitters open into the synapse. The neurotransmitter molecules cross the synapse and fit into special receptors on the receiving nerve cell, which stimulates that cell to pass on the message. [source](https://mayfieldclinic.com/pe-anatbrain.htm)\n",
    "\n",
    "![](images/neuron.png)\n",
    "\n",
    "**Artificial Nuerons**\n",
    "\n",
    "An artificial neuron is an implimentation of the biological neuron and has the same structure.Let's break down what we just went over in understanding biological neurons. basically the dendrites are the input points to the neuron, the cell body determines whether to activate the neuron to cause it to pass along the message or not. An artificail neuron consists of three main parts, the input layer, the output layer and the hidden layer. The input layer takes in inputs as the name suggests, it functions as the dendrites of the biological neuron. The output layer acts like the synapes and to give and output result of the neuron depending on inputs and the computations done in hidden layers( cell body of biological neuron).\n",
    "\n",
    "let's compare a biological neuron to an artificial neuron.\n",
    "\n",
    "\n",
    "\n"
   ]
  }
 ],
 "metadata": {
  "kernelspec": {
   "display_name": "Python 3",
   "language": "python",
   "name": "python3"
  },
  "language_info": {
   "codemirror_mode": {
    "name": "ipython",
    "version": 3
   },
   "file_extension": ".py",
   "mimetype": "text/x-python",
   "name": "python",
   "nbconvert_exporter": "python",
   "pygments_lexer": "ipython3",
   "version": "3.8.5"
  }
 },
 "nbformat": 4,
 "nbformat_minor": 4
}
