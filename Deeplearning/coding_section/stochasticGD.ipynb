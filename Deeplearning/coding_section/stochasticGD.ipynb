{
 "cells": [
  {
   "cell_type": "code",
   "execution_count": 1,
   "metadata": {},
   "outputs": [],
   "source": [
    "import pandas as pd\n",
    "import numpy as np"
   ]
  },
  {
   "cell_type": "code",
   "execution_count": 2,
   "metadata": {},
   "outputs": [],
   "source": [
    "df = pd.read_csv('../../datasets/houseprediction.csv')"
   ]
  },
  {
   "cell_type": "code",
   "execution_count": 3,
   "metadata": {},
   "outputs": [
    {
     "data": {
      "text/html": [
       "<div>\n",
       "<style scoped>\n",
       "    .dataframe tbody tr th:only-of-type {\n",
       "        vertical-align: middle;\n",
       "    }\n",
       "\n",
       "    .dataframe tbody tr th {\n",
       "        vertical-align: top;\n",
       "    }\n",
       "\n",
       "    .dataframe thead th {\n",
       "        text-align: right;\n",
       "    }\n",
       "</style>\n",
       "<table border=\"1\" class=\"dataframe\">\n",
       "  <thead>\n",
       "    <tr style=\"text-align: right;\">\n",
       "      <th></th>\n",
       "      <th>area</th>\n",
       "      <th>bedrooms</th>\n",
       "      <th>price</th>\n",
       "    </tr>\n",
       "  </thead>\n",
       "  <tbody>\n",
       "    <tr>\n",
       "      <th>0</th>\n",
       "      <td>1056</td>\n",
       "      <td>2</td>\n",
       "      <td>39.07</td>\n",
       "    </tr>\n",
       "    <tr>\n",
       "      <th>1</th>\n",
       "      <td>2600</td>\n",
       "      <td>4</td>\n",
       "      <td>120.00</td>\n",
       "    </tr>\n",
       "    <tr>\n",
       "      <th>2</th>\n",
       "      <td>1440</td>\n",
       "      <td>3</td>\n",
       "      <td>62.00</td>\n",
       "    </tr>\n",
       "    <tr>\n",
       "      <th>3</th>\n",
       "      <td>1521</td>\n",
       "      <td>3</td>\n",
       "      <td>75.00</td>\n",
       "    </tr>\n",
       "    <tr>\n",
       "      <th>4</th>\n",
       "      <td>1200</td>\n",
       "      <td>2</td>\n",
       "      <td>51.00</td>\n",
       "    </tr>\n",
       "  </tbody>\n",
       "</table>\n",
       "</div>"
      ],
      "text/plain": [
       "   area  bedrooms   price\n",
       "0  1056         2   39.07\n",
       "1  2600         4  120.00\n",
       "2  1440         3   62.00\n",
       "3  1521         3   75.00\n",
       "4  1200         2   51.00"
      ]
     },
     "execution_count": 3,
     "metadata": {},
     "output_type": "execute_result"
    }
   ],
   "source": [
    "df.head()"
   ]
  },
  {
   "cell_type": "code",
   "execution_count": 4,
   "metadata": {},
   "outputs": [],
   "source": [
    "from sklearn import preprocessing\n",
    "\n",
    "sy = preprocessing.MinMaxScaler()\n",
    "sx = preprocessing.MinMaxScaler()\n",
    "\n",
    "scaled_y = sy.fit_transform(df['price'].values.reshape(df.shape[0], 1))\n",
    "scaled_x = sx.fit_transform(df[['area', 'bedrooms']])"
   ]
  },
  {
   "cell_type": "code",
   "execution_count": 5,
   "metadata": {},
   "outputs": [
    {
     "data": {
      "text/plain": [
       "array([[0.05237037],\n",
       "       [0.65185185],\n",
       "       [0.22222222],\n",
       "       [0.31851852],\n",
       "       [0.14074074],\n",
       "       [0.04444444],\n",
       "       [0.76296296],\n",
       "       [0.91111111],\n",
       "       [0.13333333],\n",
       "       [1.        ],\n",
       "       [0.37037037],\n",
       "       [0.8       ],\n",
       "       [0.04444444],\n",
       "       [0.05925926],\n",
       "       [0.51111111],\n",
       "       [0.07407407],\n",
       "       [0.11851852],\n",
       "       [0.20740741],\n",
       "       [0.51851852],\n",
       "       [0.        ]])"
      ]
     },
     "execution_count": 5,
     "metadata": {},
     "output_type": "execute_result"
    }
   ],
   "source": [
    "scaled_y"
   ]
  },
  {
   "cell_type": "code",
   "execution_count": 6,
   "metadata": {},
   "outputs": [],
   "source": [
    "def bath_gradient_descent(x, y_true, epochs, learning_rate = 0.01):\n",
    "    \n",
    "    number_of_features = x.shape[1]\n",
    "    \n",
    "    w = np.ones(shape=(number_of_features))\n",
    "    b = 0\n",
    "    \n",
    "    total_sample = x.shape[0]\n",
    "    cost_list = []\n",
    "    epochs_list = []\n",
    "    \n",
    "    for i in range(epochs):\n",
    "        \n",
    "        y_predicted = np.dot(w, scaled_x.T) + b\n",
    "        \n",
    "        w_grad = -(2/total_sample)*(x.T.dot(y_true - y_predicted))\n",
    "        b_grad = -(2/total_sample)*(np.sum(y_true - y_predicted))\n",
    "        \n",
    "        w = w - learning_rate*w_grad\n",
    "        b = b - learning_rate*b_grad\n",
    "        \n",
    "        cost = np.mean(np.square(y_true-y_predicted))\n",
    "        \n",
    "        if i%10 == 0:\n",
    "            cost_list.append(cost)\n",
    "            epochs_list.append(i)\n",
    "            print(f\"epoch: {i} cost:{cost}\")\n",
    "            \n",
    "    return w, b, cost, cost_list, epochs_list"
   ]
  },
  {
   "cell_type": "code",
   "execution_count": 7,
   "metadata": {},
   "outputs": [
    {
     "name": "stdout",
     "output_type": "stream",
     "text": [
      "epoch: 0 cost:0.2768777174681\n",
      "epoch: 10 cost:0.16573507027671064\n",
      "epoch: 20 cost:0.10212908135956808\n",
      "epoch: 30 cost:0.06564235879682481\n",
      "epoch: 40 cost:0.04463022365578522\n",
      "epoch: 50 cost:0.03245122421764872\n",
      "epoch: 60 cost:0.025317339083010492\n",
      "epoch: 70 cost:0.021067914076635823\n",
      "epoch: 80 cost:0.01847041893523527\n",
      "epoch: 90 cost:0.016821657535428185\n",
      "epoch: 100 cost:0.015720331469182485\n",
      "epoch: 110 cost:0.014937329116527901\n",
      "epoch: 120 cost:0.014341749105819087\n",
      "epoch: 130 cost:0.0138587099774241\n",
      "epoch: 140 cost:0.013445288028074867\n",
      "epoch: 150 cost:0.013076793952344979\n",
      "epoch: 160 cost:0.012738945874049962\n",
      "epoch: 170 cost:0.012423405193086517\n",
      "epoch: 180 cost:0.012125230310262438\n",
      "epoch: 190 cost:0.011841424159334757\n",
      "epoch: 200 cost:0.011570105565415722\n",
      "epoch: 210 cost:0.011310036391930275\n",
      "epoch: 220 cost:0.01106035160957391\n",
      "epoch: 230 cost:0.010820405104702651\n",
      "epoch: 240 cost:0.010589681505198633\n",
      "epoch: 250 cost:0.010367745666240432\n",
      "epoch: 260 cost:0.010154213642862602\n",
      "epoch: 270 cost:0.009948735925187012\n",
      "epoch: 280 cost:0.009750987675343718\n",
      "epoch: 290 cost:0.009560662965348804\n",
      "epoch: 300 cost:0.009377471304274599\n",
      "epoch: 310 cost:0.009201135478234784\n",
      "epoch: 320 cost:0.009031390146006546\n",
      "epoch: 330 cost:0.008867980872255637\n",
      "epoch: 340 cost:0.008710663416728342\n",
      "epoch: 350 cost:0.008559203175573597\n",
      "epoch: 360 cost:0.008413374715338717\n",
      "epoch: 370 cost:0.008272961365501463\n",
      "epoch: 380 cost:0.008137754849850727\n",
      "epoch: 390 cost:0.00800755494527638\n",
      "epoch: 400 cost:0.007882169161242129\n",
      "epoch: 410 cost:0.0077614124359100785\n",
      "epoch: 420 cost:0.007645106846431061\n",
      "epoch: 430 cost:0.007533081331802613\n",
      "epoch: 440 cost:0.0074251714272102086\n",
      "epoch: 450 cost:0.007321219009066901\n",
      "epoch: 460 cost:0.007221072050143653\n",
      "epoch: 470 cost:0.007124584384290001\n",
      "epoch: 480 cost:0.007031615480311842\n",
      "epoch: 490 cost:0.006942030224616903\n"
     ]
    }
   ],
   "source": [
    "w, b, cost, cost, epochs = bath_gradient_descent(scaled_x, scaled_y.reshape(scaled_y.shape[0], ), 500)"
   ]
  },
  {
   "cell_type": "code",
   "execution_count": 8,
   "metadata": {},
   "outputs": [
    {
     "data": {
      "text/plain": [
       "(array([0.70712464, 0.67456527]), -0.23034857438407427)"
      ]
     },
     "execution_count": 8,
     "metadata": {},
     "output_type": "execute_result"
    }
   ],
   "source": [
    "w, b"
   ]
  },
  {
   "cell_type": "code",
   "execution_count": 9,
   "metadata": {},
   "outputs": [],
   "source": [
    "from matplotlib import pyplot as plt"
   ]
  },
  {
   "cell_type": "code",
   "execution_count": 10,
   "metadata": {},
   "outputs": [
    {
     "data": {
      "image/png": "[encoded data removed]",
      "text/plain": [
       "<Figure size 432x288 with 1 Axes>"
      ]
     },
     "metadata": {
      "needs_background": "light"
     },
     "output_type": "display_data"
    }
   ],
   "source": [
    "plt.xlabel('cost')\n",
    "plt.ylabel('epochs')\n",
    "plt.plot(epochs, cost)\n",
    "plt.show()"
   ]
  },
  {
   "cell_type": "code",
   "execution_count": 11,
   "metadata": {},
   "outputs": [],
   "source": [
    "def prediction(area, bedrooms, w, b):\n",
    "    scaled_x = sx.transform([[area, bedrooms]])[0]\n",
    "    prediction = w[0]*scaled_x[0] + w[1]*scaled_x[1] + b\n",
    "    return sy.inverse_transform([[prediction]])[0][0]"
   ]
  },
  {
   "cell_type": "code",
   "execution_count": 12,
   "metadata": {},
   "outputs": [
    {
     "data": {
      "text/plain": [
       "128.45484403267596"
      ]
     },
     "execution_count": 12,
     "metadata": {},
     "output_type": "execute_result"
    }
   ],
   "source": [
    "prediction(2600, 4, w, b)"
   ]
  },
  {
   "cell_type": "code",
   "execution_count": 13,
   "metadata": {},
   "outputs": [],
   "source": [
    "import random\n",
    "\n",
    "def stochastic_gradient_descent(x, y_true, epochos, learning_rate=0.01):\n",
    "    number_of_features = x.shape[1]\n",
    "    total_number_samples = x.shape[0]\n",
    "    \n",
    "    w = np.ones(shape=(number_of_features))\n",
    "    b = 0\n",
    "    cost_list = []\n",
    "    epochs_list = []\n",
    "    \n",
    "    for i in range(epochos):\n",
    "        random_index = random.randint(0, total_number_samples-1)\n",
    "        \n",
    "        sample_y = y_true[random_index]\n",
    "        sample_x = x[random_index]\n",
    "        \n",
    "        y_prediction = (np.dot(w, sample_x.T)) + b\n",
    "        \n",
    "        w_derivative = -(2/total_number_samples)*(sample_x.T.dot(sample_y - y_prediction))\n",
    "        b_derivative = -(2/total_number_samples)*(sample_y - y_prediction)\n",
    "        \n",
    "        w = w - learning_rate*w_derivative\n",
    "        b = b - learning_rate*b_derivative\n",
    "\n",
    "        \n",
    "        cost = np.square(sample_y - y_prediction)\n",
    "        \n",
    "        if i%10 == 0:\n",
    "            cost_list.append(cost)\n",
    "            epochs_list.append(i)\n",
    "            \n",
    "    return w, b, cost_list, epochs_list"
   ]
  },
  {
   "cell_type": "code",
   "execution_count": 14,
   "metadata": {},
   "outputs": [],
   "source": [
    "w_SGD, b_SGD, cost_SGD, epochs_SGD = stochastic_gradient_descent(scaled_x, \n",
    "                                                                 scaled_y.reshape(scaled_y.shape[0], ), 10000)"
   ]
  },
  {
   "cell_type": "code",
   "execution_count": 15,
   "metadata": {},
   "outputs": [
    {
     "data": {
      "text/plain": [
       "(array([0.71034378, 0.67538617]), -0.23260621303505508)"
      ]
     },
     "execution_count": 15,
     "metadata": {},
     "output_type": "execute_result"
    }
   ],
   "source": [
    "w_SGD, b_SGD"
   ]
  },
  {
   "cell_type": "code",
   "execution_count": 16,
   "metadata": {},
   "outputs": [
    {
     "data": {
      "image/png": "[encoded data removed]",
      "text/plain": [
       "<Figure size 432x288 with 1 Axes>"
      ]
     },
     "metadata": {
      "needs_background": "light"
     },
     "output_type": "display_data"
    }
   ],
   "source": [
    "plt.xlabel('cost')\n",
    "plt.ylabel('epochs')\n",
    "plt.plot(epochs_SGD, cost_SGD)\n",
    "plt.show()"
   ]
  },
  {
   "cell_type": "code",
   "execution_count": null,
   "metadata": {},
   "outputs": [],
   "source": []
  },
  {
   "cell_type": "code",
   "execution_count": null,
   "metadata": {},
   "outputs": [],
   "source": []
  }
 ],
 "metadata": {
  "kernelspec": {
   "display_name": "Python 3",
   "language": "python",
   "name": "python3"
  },
  "language_info": {
   "codemirror_mode": {
    "name": "ipython",
    "version": 3
   },
   "file_extension": ".py",
   "mimetype": "text/x-python",
   "name": "python",
   "nbconvert_exporter": "python",
   "pygments_lexer": "ipython3",
   "version": "3.8.5"
  }
 },
 "nbformat": 4,
 "nbformat_minor": 4
}
