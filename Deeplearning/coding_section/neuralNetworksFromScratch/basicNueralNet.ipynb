{
 "cells": [
  {
   "cell_type": "code",
   "execution_count": 45,
   "metadata": {},
   "outputs": [],
   "source": [
    "inputs = [1, 5, 6, 8]\n",
    "\n",
    "weights = [[0.4, 0.2, -0.3, -0.1],\n",
    "           [0.5, 0.1, -0.2, 0.6],\n",
    "           [0,1, -0.2, -0.5, 0.7],\n",
    "           [0.6, 0.4, 0.1, 0.2]]\n",
    "biase_layer1 = [1,4,6,8]\n",
    "biase_layer2 = [3, 7, 8, 6]"
   ]
  },
  {
   "cell_type": "code",
   "execution_count": 46,
   "metadata": {},
   "outputs": [],
   "source": [
    "layer1 = []\n",
    "\n",
    "for wc, biase in zip(weights, biase_layer1):\n",
    "    output = 0\n",
    "    for w, i in zip(wc, inputs):\n",
    "        output += w * i\n",
    "    layer1.append(output + biase)"
   ]
  },
  {
   "cell_type": "code",
   "execution_count": 47,
   "metadata": {},
   "outputs": [
    {
     "data": {
      "text/plain": [
       "[-0.19999999999999996, 8.6, 5.8, 12.8]"
      ]
     },
     "execution_count": 47,
     "metadata": {},
     "output_type": "execute_result"
    }
   ],
   "source": [
    "layer1"
   ]
  },
  {
   "cell_type": "code",
   "execution_count": 48,
   "metadata": {},
   "outputs": [],
   "source": [
    "layer2 = []\n",
    "\n",
    "for wc, biase in zip(weights, biase_layer2):\n",
    "    output = 0\n",
    "    for w, i in zip(wc, layer1):\n",
    "        output += w * i\n",
    "    layer2.append(output + biase)"
   ]
  },
  {
   "cell_type": "code",
   "execution_count": 49,
   "metadata": {},
   "outputs": [
    {
     "data": {
      "text/plain": [
       "[1.6199999999999997, 14.28, 9.04, 12.46]"
      ]
     },
     "execution_count": 49,
     "metadata": {},
     "output_type": "execute_result"
    }
   ],
   "source": [
    "layer2"
   ]
  },
  {
   "cell_type": "code",
   "execution_count": null,
   "metadata": {},
   "outputs": [],
   "source": []
  }
 ],
 "metadata": {
  "kernelspec": {
   "display_name": "Python 3",
   "language": "python",
   "name": "python3"
  },
  "language_info": {
   "codemirror_mode": {
    "name": "ipython",
    "version": 3
   },
   "file_extension": ".py",
   "mimetype": "text/x-python",
   "name": "python",
   "nbconvert_exporter": "python",
   "pygments_lexer": "ipython3",
   "version": "3.8.5"
  }
 },
 "nbformat": 4,
 "nbformat_minor": 4
}
