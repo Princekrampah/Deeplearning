{
 "cells": [
  {
   "cell_type": "code",
   "execution_count": 17,
   "metadata": {
    "slideshow": {
     "slide_type": "slide"
    }
   },
   "outputs": [],
   "source": [
    "import numpy as np"
   ]
  },
  {
   "cell_type": "markdown",
   "metadata": {
    "slideshow": {
     "slide_type": "slide"
    }
   },
   "source": [
    "## Activation function (sigmoid)\n",
    "\n",
    "\n",
    "## \\begin{equation}\n",
    "f(x) = \\frac{1}{1 + e^{-x}}\n",
    "\\end{equation}"
   ]
  },
  {
   "cell_type": "code",
   "execution_count": 18,
   "metadata": {},
   "outputs": [],
   "source": [
    "def sigmoid(x):\n",
    "    return 1 / (1 + np.exp(-x))"
   ]
  },
  {
   "cell_type": "code",
   "execution_count": 19,
   "metadata": {
    "scrolled": true
   },
   "outputs": [
    {
     "data": {
      "text/plain": [
       "0.9525741268224334"
      ]
     },
     "execution_count": 19,
     "metadata": {},
     "output_type": "execute_result"
    }
   ],
   "source": [
    "sigmoid(3)"
   ]
  },
  {
   "cell_type": "code",
   "execution_count": 20,
   "metadata": {},
   "outputs": [],
   "source": [
    "def sigmoid_derivative(x):\n",
    "    return x * (1 - x)"
   ]
  },
  {
   "cell_type": "code",
   "execution_count": 33,
   "metadata": {},
   "outputs": [
    {
     "name": "stdout",
     "output_type": "stream",
     "text": [
      "weights\n",
      "[[-0.16595599]\n",
      " [ 0.44064899]\n",
      " [-0.99977125]]\n"
     ]
    }
   ],
   "source": [
    "X_train = np.array([[0,0,1],\n",
    "                   [1,1,1],\n",
    "                   [1,0,1],\n",
    "                   [0,1,1]])\n",
    "\n",
    "y_train = np.array([[0,1,1,0]]).T\n",
    "np.random.seed(1)\n",
    "\n",
    "weights = 2 * np.random.random((3, 1)) -1\n",
    "print(\"weights\")\n",
    "print(weights)"
   ]
  },
  {
   "cell_type": "code",
   "execution_count": 35,
   "metadata": {},
   "outputs": [
    {
     "name": "stdout",
     "output_type": "stream",
     "text": [
      "weights after training \n",
      "[[12.60034034]\n",
      " [-0.20398834]\n",
      " [-6.0964402 ]]\n",
      "Outputs\n",
      "[[0.00224582]\n",
      " [0.99816689]\n",
      " [0.99850465]\n",
      " [0.00183216]]\n"
     ]
    }
   ],
   "source": [
    "for iteration in range(120000):\n",
    "    input_layer = X_train\n",
    "    \n",
    "    outputs = sigmoid(np.dot(input_layer, weights))\n",
    "    \n",
    "    errors = y_train - outputs\n",
    "    \n",
    "    adjustments = errors * sigmoid_derivative(outputs)\n",
    "    \n",
    "    weights += np.dot(input_layer.T, adjustments)\n",
    "\n",
    "print(\"weights after training \")\n",
    "print(weights)\n",
    "\n",
    "print(\"Outputs\")    \n",
    "print(outputs)"
   ]
  },
  {
   "cell_type": "code",
   "execution_count": 39,
   "metadata": {},
   "outputs": [
    {
     "data": {
      "text/plain": [
       "array([0.00224581])"
      ]
     },
     "execution_count": 39,
     "metadata": {},
     "output_type": "execute_result"
    }
   ],
   "source": [
    "test_input = np.array([0,0,1]).T\n",
    "\n",
    "test = sigmoid(np.dot(test_input, weights))\n",
    "test"
   ]
  },
  {
   "cell_type": "code",
   "execution_count": null,
   "metadata": {
    "slideshow": {
     "slide_type": "slide"
    }
   },
   "outputs": [],
   "source": []
  },
  {
   "cell_type": "code",
   "execution_count": null,
   "metadata": {},
   "outputs": [],
   "source": []
  }
 ],
 "metadata": {
  "kernelspec": {
   "display_name": "Python 3",
   "language": "python",
   "name": "python3"
  },
  "language_info": {
   "codemirror_mode": {
    "name": "ipython",
    "version": 3
   },
   "file_extension": ".py",
   "mimetype": "text/x-python",
   "name": "python",
   "nbconvert_exporter": "python",
   "pygments_lexer": "ipython3",
   "version": "3.8.5"
  }
 },
 "nbformat": 4,
 "nbformat_minor": 4
}
